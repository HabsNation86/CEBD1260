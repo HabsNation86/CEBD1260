{
 "cells": [
  {
   "cell_type": "markdown",
   "metadata": {},
   "source": [
    "WEEK 2 ASSIGNMENT\n",
    "====\n",
    "Frequent Itemsets and Association Rule"
   ]
  },
  {
   "cell_type": "code",
   "execution_count": 1,
   "metadata": {},
   "outputs": [],
   "source": [
    "import pandas as pd\n",
    "df = pd.read_csv('Online Retail.csv', encoding = \"ISO-8859-1\")\n",
    "s2 =df.groupby('InvoiceNo')['StockCode'].apply(','.join)\n",
    "s2 = s2.reset_index()\n",
    "s2[:5].to_csv('Online Retail.txt', columns = [\"StockCode\"], header=False, index=False)"
   ]
  },
  {
   "cell_type": "code",
   "execution_count": 15,
   "metadata": {},
   "outputs": [],
   "source": [
    "data = sc.textFile(\"Online Retail.txt\")\n",
    "transactions = data.map(lambda line: line.strip().split(' '))"
   ]
  },
  {
   "cell_type": "code",
   "execution_count": 38,
   "metadata": {},
   "outputs": [],
   "source": [
    "model = FPGrowth.train(transactions, minSupport = 0.15, numPartitions = 10)\n",
    "freqItemsets = model.freqItemsets().collect()\n",
    "\n",
    "freqItemsetsDict = {}\n",
    "\n",
    "for i in range(0, len(freqItemsets)):\n",
    "    freqItemsetsDict[str(freqItemsets[i].items)] = freqItemsets[i].freq"
   ]
  },
  {
   "cell_type": "markdown",
   "metadata": {},
   "source": [
    "1) How many frequent itemsets were found with minimum support of .15?"
   ]
  },
  {
   "cell_type": "code",
   "execution_count": 39,
   "metadata": {},
   "outputs": [
    {
     "data": {
      "text/plain": [
       "[FreqItemset(items=['21756'], freq=1),\n",
       " FreqItemset(items=['\"22633,22632\"'], freq=1),\n",
       " FreqItemset(items=['\"22960,22913,22912,22914\"'], freq=1),\n",
       " FreqItemset(items=['\"85123A,71053,84406B,84029G,84029E,22752,21730\"'], freq=1),\n",
       " FreqItemset(items=['\"84879,22745,22748,22749,22310,84969,22623,22622,21754,21755,21777,48187\"'], freq=1)]"
      ]
     },
     "execution_count": 39,
     "metadata": {},
     "output_type": "execute_result"
    }
   ],
   "source": [
    "freqItemsets"
   ]
  },
  {
   "cell_type": "code",
   "execution_count": 34,
   "metadata": {},
   "outputs": [],
   "source": [
    "minConfidence = .4\n",
    "rules = sorted(model._java_model.generateAssociationRules(minConfidence).collect(), \n",
    "    key=lambda x: x.confidence(), reverse=True)\n",
    "\n",
    "for j in range(0, len(rules)):\n",
    "    antecedent = list(rules[j].antecedent())\n",
    "    consequent = list(rules[j].consequent())\n",
    "    ruleItemset = str(antecedent + consequent)\n",
    "    \n",
    "    try:\n",
    "        support = \"{0:.15f}\".format(freqItemsetsDict[ruleItemset] / transactions.count())\n",
    "    except KeyError:\n",
    "        next\n",
    "    \n",
    "    confidence = \"{0:.15f}\".format(rules[j].confidence())\n",
    "    \n",
    "    try:\n",
    "        print(antecedent, '=>', consequent, '(support: '+ str(support), 'confidence: '+ str(confidence) + ')')\n",
    "    except NameError:\n",
    "        next"
   ]
  },
  {
   "cell_type": "markdown",
   "metadata": {},
   "source": [
    "2) How many association rules were identified with a minimum confidence of .4?"
   ]
  },
  {
   "cell_type": "markdown",
   "metadata": {},
   "source": [
    "As per the above code, the result is 0"
   ]
  },
  {
   "cell_type": "markdown",
   "metadata": {},
   "source": [
    "\n",
    "3) What is the support and confidence of the following association rule: ['21754', '22748'] => ['22745']? Go beyond reporting the values, but include an interpretation of these evaluation metrics."
   ]
  },
  {
   "cell_type": "markdown",
   "metadata": {},
   "source": [
    "Support = 1/5 or .2\n",
    "Confidence = 1/5 or .2 as well.\n",
    "\n",
    "Logic: Since this is such a small dataset, the 5 transactions don't have any association rule. This data shows us that out of the 5 transactions there are no valuable conclusions that can be drawn. "
   ]
  }
 ],
 "metadata": {
  "kernelspec": {
   "display_name": "Python 3",
   "language": "python",
   "name": "python3"
  },
  "language_info": {
   "codemirror_mode": {
    "name": "ipython",
    "version": 3
   },
   "file_extension": ".py",
   "mimetype": "text/x-python",
   "name": "python",
   "nbconvert_exporter": "python",
   "pygments_lexer": "ipython3",
   "version": "3.6.2"
  }
 },
 "nbformat": 4,
 "nbformat_minor": 2
}

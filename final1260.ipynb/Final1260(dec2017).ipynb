{
 "cells": [
  {
   "cell_type": "markdown",
   "metadata": {},
   "source": [
    "    CEBD 1260 Final Programming Assignment\n",
    "    \n",
    "    Complete both questions in a single jupyter notebook and upload to github repo in a new directory named \"final\".\n",
    "    \n",
    "    Answers should include both code and written explanation / interpretation of results. Be sure to answer all parts of the question completely.\n",
    "    \n",
    "    1) Your first task to is to classify data from a cancer diagnostic database. In this database are patients with tumors, characteristics of those tumors, and biospy results indicating whether the tumor is Malignant or Benign.\n",
    "     \n",
    "     \n",
    "    In cancer_data.txt you will find the following variables:\n",
    "     \n",
    "       - radius (mean of distances from center to points on the perimeter)\n",
    "       - texture (standard deviation of gray-scale values)\n",
    "       - perimeter\n",
    "       - area\n",
    "       - smoothness (local variation in radius lengths)\n",
    "       - compactness (perimeter^2 / area - 1.0)\n",
    "       - concavity (severity of concave portions of the contour)\n",
    "       - concave_points (number of concave portions of the contour)\n",
    "       - symmetry \n",
    "       - fractal_dimension (\"coastline approximation\" - 1)\n",
    "       - cancer (0 = Benign, 1 = Malignant)  *target*\n",
    "     \n",
    "     \n",
    "    Use any machine learning algorithm you wish. In your answer include a short description of your algorithm of choice and predicted category of a new patient with a tumor with the following features:\n",
    "     \n",
    "       - radius: 14\n",
    "       - texture: 14\n",
    "       - perimeter: 88\n",
    "       - area: 566\n",
    "       - smoothness: 1\n",
    "       - compactness: 0.08\n",
    "       - concavity: 0.06\n",
    "       - concae points: 0.04\n",
    "       - symmetry: 0.18\n",
    "       - fractal dimension: 0.05"
   ]
  },
  {
   "cell_type": "markdown",
   "metadata": {},
   "source": [
    "    2) The following code contains a 5 bugs (errors). Find and correct them all and then answer the following questions:\n",
    "    \n",
    "      1. How many observations are in the training dataset?\n",
    "      2. How many features are in the training dataset?\n",
    "      3. How well did your model perform?\n",
    "      \n",
    "      BONUS: Which category is Hockey? 0 or 1? Which category is baseball?"
   ]
  },
  {
   "cell_type": "markdown",
   "metadata": {},
   "source": [
    "Question #1\n",
    "==================="
   ]
  },
  {
   "cell_type": "code",
   "execution_count": 252,
   "metadata": {},
   "outputs": [],
   "source": [
    "#Setting up environment \n",
    "\n",
    "import numpy as np\n",
    "import matplotlib.pyplot as plt\n",
    "import numpy as np\n",
    "from sklearn import datasets, linear_model"
   ]
  },
  {
   "cell_type": "code",
   "execution_count": 285,
   "metadata": {},
   "outputs": [],
   "source": [
    "#Loading in the data via numpy\"np\" and seperating by \",\"\n",
    "\n",
    "f = open(\"cancer_data.csv\")\n",
    "f.readline() \n",
    "cancer_data = np.loadtxt(f, delimiter = ',')"
   ]
  },
  {
   "cell_type": "code",
   "execution_count": 286,
   "metadata": {},
   "outputs": [],
   "source": [
    "# X Test/Train\n",
    "\n",
    "cancer_X = cancer_data[:,:10]\n",
    "cancer_X_train = cancer_X[:]"
   ]
  },
  {
   "cell_type": "code",
   "execution_count": 287,
   "metadata": {},
   "outputs": [],
   "source": [
    "# Y Train and loading numpy array for provided feature values \n",
    "cancer_y_train = cancer_data[:,10]\n",
    "cancer_test = np.array( [[14,14,88,566,1,0.08,0.06,0.04,0.18,0.05]])\n",
    "\n",
    " #Due to version of python, this was required to format the provided data points to be analyzed in \"regr.predict\" below\n",
    "cancer_test = cancer_test.reshape(1, -1) "
   ]
  },
  {
   "cell_type": "code",
   "execution_count": 288,
   "metadata": {},
   "outputs": [
    {
     "data": {
      "text/plain": [
       "SGDClassifier(alpha=0.0001, average=False, class_weight=None, epsilon=0.1,\n",
       "       eta0=0.0, fit_intercept=True, l1_ratio=0.15,\n",
       "       learning_rate='optimal', loss='log', n_iter=5, n_jobs=1,\n",
       "       penalty='l2', power_t=0.5, random_state=None, shuffle=True,\n",
       "       verbose=0, warm_start=False)"
      ]
     },
     "execution_count": 288,
     "metadata": {},
     "output_type": "execute_result"
    }
   ],
   "source": [
    "#Chosen algorithm to analyze data\n",
    "regr = linear_model.SGDClassifier(loss='log')\n",
    "regr.fit(cancer_X_train, cancer_y_train)"
   ]
  },
  {
   "cell_type": "code",
   "execution_count": 293,
   "metadata": {},
   "outputs": [],
   "source": [
    "#Reason for chosing SGDClassifier\n",
    "\n",
    "#As found at the following link 'machinelearningmastery.com/logistic-regression-for-machine-learning'\n",
    "    \n",
    "#The following quote describes why I deemed this to be the best model:\"logistic regression is intended for binary (two-class) classification problems. \n",
    "#It will predict the probability of an instance belonging to the default class,\n",
    "#which can be snapped into a 0 or 1 classification.\"\n",
    "\n",
    "#As our problem was 2 class (Benign or Malignant) it suited the need of the data and provided a binary response. "
   ]
  },
  {
   "cell_type": "code",
   "execution_count": 289,
   "metadata": {},
   "outputs": [],
   "source": [
    "#loading data from provided features to predict 0 = Benign  1 = Malignent\n",
    "cancer_y_pred = regr.predict(cancer_test)"
   ]
  },
  {
   "cell_type": "code",
   "execution_count": 290,
   "metadata": {},
   "outputs": [
    {
     "data": {
      "text/plain": [
       "array([ 1.])"
      ]
     },
     "execution_count": 290,
     "metadata": {},
     "output_type": "execute_result"
    }
   ],
   "source": [
    "#Calling the result   Answer=1=Malignent\n",
    "cancer_y_pred"
   ]
  },
  {
   "cell_type": "markdown",
   "metadata": {},
   "source": [
    "Question #2\n",
    "================"
   ]
  },
  {
   "cell_type": "code",
   "execution_count": 134,
   "metadata": {},
   "outputs": [],
   "source": [
    "#Corrected code \n",
    "\n",
    "from sklearn.datasets import fetch_20newsgroups\n",
    "from sklearn.feature_extraction.text import CountVectorizer, TfidfTransformer\n",
    "from sklearn.pipeline import Pipeline\n",
    "from sklearn.linear_model import SGDClassifier\n",
    "\n",
    "categories = [ 'rec.sport.baseball','rec.sport.hockey']\n",
    "twenty_train = fetch_20newsgroups(subset='train', categories=categories)\n",
    "twenty_test = fetch_20newsgroups(subset='test', categories=categories, shuffle=True, random_state=42)\n",
    "\n",
    "count_vect= CountVectorizer()\n",
    "twenty_train_counts = count_vect.fit_transform(twenty_train.data)\n",
    "twenty_train_counts.shape\n",
    "\n",
    "text_clf = Pipeline([('vect', CountVectorizer()),\n",
    "                     ('tfidf', TfidfTransformer()),\n",
    "                     ('clf', SGDClassifier(loss='hinge',penalty='l2',random_state=42)),])\n",
    "text_clf.fit(twenty_train.data, twenty_train.target)  \n",
    "predicted = text_clf.predict(twenty_test.data)"
   ]
  },
  {
   "cell_type": "code",
   "execution_count": 123,
   "metadata": {
    "scrolled": true
   },
   "outputs": [
    {
     "name": "stdout",
     "output_type": "stream",
     "text": [
      "796\n"
     ]
    }
   ],
   "source": [
    "#2 A) How many observations in the training dataset?\n",
    "print(len(twenty_test.data))"
   ]
  },
  {
   "cell_type": "code",
   "execution_count": 122,
   "metadata": {},
   "outputs": [
    {
     "data": {
      "text/plain": [
       "(1197, 18571)"
      ]
     },
     "execution_count": 122,
     "metadata": {},
     "output_type": "execute_result"
    }
   ],
   "source": [
    "#2 B) How many features are in the training dataset? (Answer= 18571)\n",
    "twenty_train_counts.shape"
   ]
  },
  {
   "cell_type": "code",
   "execution_count": 121,
   "metadata": {},
   "outputs": [
    {
     "name": "stdout",
     "output_type": "stream",
     "text": [
      "                    precision    recall  f1-score   support\n",
      "\n",
      "rec.sport.baseball       0.96      0.96      0.96       397\n",
      "  rec.sport.hockey       0.96      0.96      0.96       399\n",
      "\n",
      "       avg / total       0.96      0.96      0.96       796\n",
      "\n"
     ]
    }
   ],
   "source": [
    "#2 C) How well did your model perform?\n",
    "from sklearn import metrics\n",
    "print(metrics.classification_report(twenty_test.target,predicted, target_names= twenty_test.target_names ))"
   ]
  },
  {
   "cell_type": "code",
   "execution_count": 139,
   "metadata": {},
   "outputs": [
    {
     "data": {
      "text/plain": [
       "array([1])"
      ]
     },
     "execution_count": 139,
     "metadata": {},
     "output_type": "execute_result"
    }
   ],
   "source": [
    "#BONUS: Which category is Hockey? 0 or 1? Which category is baseball? ANSWER : Hockey = 1 therefor Baseball = 0\n",
    "text_clf.predict([\"hockey\"])"
   ]
  }
 ],
 "metadata": {
  "kernelspec": {
   "display_name": "Python 3",
   "language": "python",
   "name": "python3"
  },
  "language_info": {
   "codemirror_mode": {
    "name": "ipython",
    "version": 3
   },
   "file_extension": ".py",
   "mimetype": "text/x-python",
   "name": "python",
   "nbconvert_exporter": "python",
   "pygments_lexer": "ipython3",
   "version": "3.6.2"
  }
 },
 "nbformat": 4,
 "nbformat_minor": 2
}

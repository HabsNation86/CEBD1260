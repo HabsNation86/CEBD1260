{
 "cells": [
  {
   "cell_type": "markdown",
   "metadata": {},
   "source": [
    "WEEK 3 ASSIGNMENT CLUSTERING\n",
    "======\n"
   ]
  },
  {
   "cell_type": "code",
   "execution_count": 1,
   "metadata": {},
   "outputs": [],
   "source": [
    "from sklearn import cluster\n",
    "import pandas as pd\n",
    "import numpy as np\n",
    "np.random.seed(100)"
   ]
  },
  {
   "cell_type": "code",
   "execution_count": 2,
   "metadata": {},
   "outputs": [],
   "source": [
    "df = pd.read_csv('week3data.csv')\n",
    "df = df[['Fresh','Milk','Grocery','Frozen','Detergents_Paper','Delicassen']]"
   ]
  },
  {
   "cell_type": "code",
   "execution_count": 4,
   "metadata": {},
   "outputs": [
    {
     "data": {
      "text/plain": [
       "array([0, 0, 0, 0, 1, 0, 0, 0, 0, 2, 0, 0, 1, 0, 1, 0, 0, 0, 0, 0, 0, 0, 1,\n",
       "       2, 1, 0, 0, 0, 2, 1, 0, 0, 0, 1, 0, 0, 1, 0, 2, 1, 1, 0, 0, 2, 0, 2,\n",
       "       2, 2, 0, 2, 0, 0, 1, 0, 1, 0, 2, 0, 0, 0, 0, 2, 0, 0, 0, 2, 0, 0, 0,\n",
       "       0, 0, 0, 0, 0, 0, 0, 0, 2, 0, 0, 0, 0, 0, 0, 0, 2, 2, 1, 0, 1, 0, 0,\n",
       "       2, 0, 0, 0, 0, 0, 0, 0, 0, 0, 0, 1, 0, 0, 0, 0, 0, 2, 0, 2, 0, 0, 0,\n",
       "       0, 0, 0, 0, 0, 0, 0, 0, 0, 1, 1, 0, 0, 0, 1, 0, 0, 0, 0, 0, 0, 0, 0,\n",
       "       0, 0, 0, 1, 1, 0, 0, 2, 0, 0, 0, 1, 0, 0, 0, 0, 0, 2, 0, 0, 0, 0, 0,\n",
       "       0, 0, 2, 0, 2, 0, 0, 0, 0, 0, 2, 0, 2, 0, 0, 1, 0, 0, 0, 0, 1, 0, 1,\n",
       "       0, 0, 0, 0, 0, 0, 0, 0, 0, 0, 0, 0, 1, 0, 0, 0, 2, 2, 1, 0, 0, 2, 0,\n",
       "       0, 0, 2, 0, 2, 0, 0, 0, 0, 2, 0, 0, 0, 0, 0, 0, 0, 0, 0, 0, 0, 0, 0,\n",
       "       0, 0, 1, 0, 0, 0, 0, 0, 0, 1, 1, 1, 0, 0, 0, 0, 0, 0, 0, 0, 0, 2, 0,\n",
       "       1, 0, 1, 0, 0, 1, 1, 0, 0, 1, 0, 0, 2, 2, 0, 2, 0, 0, 0, 0, 1, 0, 0,\n",
       "       1, 0, 0, 0, 0, 0, 1, 1, 1, 1, 0, 0, 0, 1, 0, 0, 0, 0, 0, 0, 0, 0, 0,\n",
       "       0, 0, 2, 0, 0, 2, 0, 2, 0, 0, 2, 0, 1, 2, 0, 0, 0, 0, 0, 0, 2, 0, 0,\n",
       "       0, 0, 1, 1, 0, 0, 0, 0, 0, 2, 0, 2, 0, 1, 0, 0, 0, 0, 0, 0, 0, 2, 0,\n",
       "       0, 0, 1, 0, 2, 0, 2, 0, 2, 0, 0, 0, 0, 0, 0, 0, 0, 0, 0, 0, 0, 0, 0,\n",
       "       0, 0, 1, 0, 0, 0, 0, 0, 0, 1, 0, 0, 1, 0, 1, 0, 2, 0, 0, 0, 0, 0, 0,\n",
       "       0, 0, 1, 0, 0, 0, 0, 0, 0, 0, 1, 1, 1, 0, 0, 1, 2, 0, 0, 0, 0, 0, 0,\n",
       "       0, 0, 0, 0, 2, 0, 0, 0, 1, 0, 0, 0, 0, 1, 0, 0, 0, 0, 0, 0, 0, 1, 1,\n",
       "       2, 0, 0], dtype=int32)"
      ]
     },
     "execution_count": 4,
     "metadata": {},
     "output_type": "execute_result"
    }
   ],
   "source": [
    "k_means = cluster.KMeans(n_clusters=3)\n",
    "k_means.fit(df) \n",
    "k_means.labels_"
   ]
  },
  {
   "cell_type": "code",
   "execution_count": 5,
   "metadata": {},
   "outputs": [
    {
     "name": "stdout",
     "output_type": "stream",
     "text": [
      "Mean:\n",
      "Fresh               8253.469697\n",
      "Milk                3824.603030\n",
      "Grocery             5280.454545\n",
      "Frozen              2572.660606\n",
      "Detergents_Paper    1773.057576\n",
      "Delicassen          1137.496970\n",
      "dtype: float64\n",
      "\n",
      "Total:\n",
      "3806.95707071\n"
     ]
    }
   ],
   "source": [
    "i, = np.where(k_means.labels_==0)\n",
    "print('Mean:')\n",
    "print(df.loc[i,].mean())\n",
    "print('\\nTotal:')\n",
    "print(df.loc[i,].mean().sum()/6)"
   ]
  },
  {
   "cell_type": "code",
   "execution_count": 6,
   "metadata": {},
   "outputs": [
    {
     "name": "stdout",
     "output_type": "stream",
     "text": [
      "Mean:\n",
      "Fresh               35941.400000\n",
      "Milk                 6044.450000\n",
      "Grocery              6288.616667\n",
      "Frozen               6713.966667\n",
      "Detergents_Paper     1039.666667\n",
      "Delicassen           3049.466667\n",
      "dtype: float64\n",
      "\n",
      "Total:\n",
      "9846.26111111\n"
     ]
    }
   ],
   "source": [
    "i, = np.where(k_means.labels_==1)\n",
    "print('Mean:')\n",
    "print(df.loc[i,].mean())\n",
    "print('\\nTotal:')\n",
    "print(df.loc[i,].mean().sum()/6)"
   ]
  },
  {
   "cell_type": "code",
   "execution_count": 7,
   "metadata": {},
   "outputs": [
    {
     "name": "stdout",
     "output_type": "stream",
     "text": [
      "Mean:\n",
      "Fresh                8000.04\n",
      "Milk                18511.42\n",
      "Grocery             27573.90\n",
      "Frozen               1996.68\n",
      "Detergents_Paper    12407.36\n",
      "Delicassen           2252.02\n",
      "dtype: float64\n",
      "\n",
      "Total:\n",
      "11790.2366667\n"
     ]
    }
   ],
   "source": [
    "i, = np.where(k_means.labels_==2)\n",
    "print('Mean:')\n",
    "print(df.loc[i,].mean())\n",
    "print('\\nTotal:')\n",
    "print(df.loc[i,].mean().sum()/6)"
   ]
  },
  {
   "cell_type": "markdown",
   "metadata": {},
   "source": [
    "A very interesting take away from this exercise would be to cross reference the 3 clusters determined and how close they correspond to the 3 regions from the dataset. It would allow us to draw conclusions on the socio-economic differences from one region to another. I will definetly further examine this at a later date.\n",
    "An interesting correlation stands out to me in these 3 groups, Group 2 ( Identified as \"1\" ) by far has the highest purchases in the fresh category, suggesting a preference for produce and a healthier lifestyle and also the lowest money spent on detergents_paper which can seen as opposite of a healthy-environmentally friendly lifestyle. However, without cross-referencing the correlation between the clusters and regions(1 region may be mainly agriculture-driven vs. the others being more urban) my observation may just be a hypothesis. "
   ]
  },
  {
   "cell_type": "code",
   "execution_count": null,
   "metadata": {},
   "outputs": [],
   "source": []
  }
 ],
 "metadata": {
  "kernelspec": {
   "display_name": "Python 3",
   "language": "python",
   "name": "python3"
  },
  "language_info": {
   "codemirror_mode": {
    "name": "ipython",
    "version": 3
   },
   "file_extension": ".py",
   "mimetype": "text/x-python",
   "name": "python",
   "nbconvert_exporter": "python",
   "pygments_lexer": "ipython3",
   "version": "3.6.2"
  }
 },
 "nbformat": 4,
 "nbformat_minor": 2
}
